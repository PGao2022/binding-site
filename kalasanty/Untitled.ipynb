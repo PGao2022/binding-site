{
 "cells": [
  {
   "cell_type": "code",
   "execution_count": 1,
   "id": "300889b7-fd06-4a38-bdf6-eb8db9c64650",
   "metadata": {},
   "outputs": [],
   "source": [
    "import numpy as np"
   ]
  },
  {
   "cell_type": "code",
   "execution_count": 29,
   "id": "3ba410a9-d6c8-4082-9950-42f6caa28009",
   "metadata": {},
   "outputs": [],
   "source": [
    "a=np.zeros((3,4))+1"
   ]
  },
  {
   "cell_type": "code",
   "execution_count": 30,
   "id": "a547e33c-037f-4685-882c-06972d77933d",
   "metadata": {},
   "outputs": [
    {
     "data": {
      "text/plain": [
       "array([[1., 1., 1., 1.],\n",
       "       [1., 1., 1., 1.],\n",
       "       [1., 1., 1., 1.]])"
      ]
     },
     "execution_count": 30,
     "metadata": {},
     "output_type": "execute_result"
    }
   ],
   "source": [
    "a"
   ]
  },
  {
   "cell_type": "code",
   "execution_count": 31,
   "id": "1b6a936f-b934-4f13-a65c-0e9cb544ba10",
   "metadata": {},
   "outputs": [],
   "source": [
    "b=np.zeros((3,1))"
   ]
  },
  {
   "cell_type": "code",
   "execution_count": 32,
   "id": "f682235e-f683-4f0d-b6da-76bd0cb0e235",
   "metadata": {},
   "outputs": [],
   "source": [
    "b[0,0]=1"
   ]
  },
  {
   "cell_type": "code",
   "execution_count": 33,
   "id": "084c4bdc-f4bb-4177-a448-7619fc28c2cb",
   "metadata": {},
   "outputs": [
    {
     "data": {
      "text/plain": [
       "array([[1.],\n",
       "       [0.],\n",
       "       [0.]])"
      ]
     },
     "execution_count": 33,
     "metadata": {},
     "output_type": "execute_result"
    }
   ],
   "source": [
    "b"
   ]
  },
  {
   "cell_type": "code",
   "execution_count": 34,
   "id": "4656c3e0-6ec2-4e17-9579-01758d20d7ec",
   "metadata": {},
   "outputs": [],
   "source": [
    "c=(a+1)*b"
   ]
  },
  {
   "cell_type": "code",
   "execution_count": 35,
   "id": "a5774664-5da9-49f5-8729-1d46d7c22f40",
   "metadata": {},
   "outputs": [
    {
     "data": {
      "text/plain": [
       "array([[2., 2., 2., 2.],\n",
       "       [0., 0., 0., 0.],\n",
       "       [0., 0., 0., 0.]])"
      ]
     },
     "execution_count": 35,
     "metadata": {},
     "output_type": "execute_result"
    }
   ],
   "source": [
    "c"
   ]
  },
  {
   "cell_type": "code",
   "execution_count": 48,
   "id": "e1f435b4-36e0-4efe-9d0b-d040bc6b7cc3",
   "metadata": {},
   "outputs": [
    {
     "data": {
      "text/plain": [
       "array([[1., 1., 1., 1.],\n",
       "       [0., 0., 0., 0.],\n",
       "       [0., 0., 0., 0.]])"
      ]
     },
     "execution_count": 48,
     "metadata": {},
     "output_type": "execute_result"
    }
   ],
   "source": [
    "c-b"
   ]
  },
  {
   "cell_type": "code",
   "execution_count": 47,
   "id": "4364b6df-d65f-4036-a715-11cf1fba19b0",
   "metadata": {},
   "outputs": [
    {
     "data": {
      "text/plain": [
       "1.4142135623730951"
      ]
     },
     "execution_count": 47,
     "metadata": {},
     "output_type": "execute_result"
    }
   ],
   "source": [
    "np.max(d)"
   ]
  },
  {
   "cell_type": "code",
   "execution_count": 13,
   "id": "f76286dc-617b-4bbc-97b5-22aaecc4258c",
   "metadata": {},
   "outputs": [],
   "source": [
    "e=[]\n",
    "e.append(c)"
   ]
  },
  {
   "cell_type": "code",
   "execution_count": 43,
   "id": "0af3e430-c9a7-4b66-9778-35fbde647858",
   "metadata": {},
   "outputs": [
    {
     "data": {
      "text/plain": [
       "[array([[2., 2., 2.],\n",
       "        [0., 0., 0.],\n",
       "        [0., 0., 0.]])]"
      ]
     },
     "execution_count": 43,
     "metadata": {},
     "output_type": "execute_result"
    }
   ],
   "source": [
    "e"
   ]
  },
  {
   "cell_type": "code",
   "execution_count": 46,
   "id": "5968173b-c6fe-48cb-8701-39e369eb678a",
   "metadata": {},
   "outputs": [
    {
     "data": {
      "text/plain": [
       "array([[2., 2., 2.]])"
      ]
     },
     "execution_count": 46,
     "metadata": {},
     "output_type": "execute_result"
    }
   ],
   "source": [
    "np.max(e,axis=1)"
   ]
  },
  {
   "cell_type": "markdown",
   "id": "a2c9fc23-c96b-43bf-82bb-0de851688148",
   "metadata": {},
   "source": [
    "e1"
   ]
  },
  {
   "cell_type": "code",
   "execution_count": 42,
   "id": "fd6fe058-47d1-42d8-84cd-31991bb4ede6",
   "metadata": {},
   "outputs": [
    {
     "data": {
      "text/plain": [
       "array([[2., 2., 2.],\n",
       "       [0., 0., 0.],\n",
       "       [0., 0., 0.]])"
      ]
     },
     "execution_count": 42,
     "metadata": {},
     "output_type": "execute_result"
    }
   ],
   "source": [
    "e1"
   ]
  },
  {
   "cell_type": "code",
   "execution_count": 77,
   "id": "6d084d63-2bbb-4c40-9f6e-6f81ff87998a",
   "metadata": {},
   "outputs": [
    {
     "data": {
      "text/plain": [
       "array([ 9, 25, 81])"
      ]
     },
     "execution_count": 77,
     "metadata": {},
     "output_type": "execute_result"
    }
   ],
   "source": [
    "mat = np.array([[3, 2, 1],\n",
    "                [4, 5, 6],\n",
    "                [7, 8, 9]])\n",
    "\n",
    "# extract the diagonal elements\n",
    "np.power(mat, 2).diagonal()"
   ]
  },
  {
   "cell_type": "code",
   "execution_count": 50,
   "id": "b332f743-9058-4005-b0b9-6d0cba21ade8",
   "metadata": {},
   "outputs": [
    {
     "data": {
      "text/plain": [
       "(3,)"
      ]
     },
     "execution_count": 50,
     "metadata": {},
     "output_type": "execute_result"
    }
   ],
   "source": [
    "diag.shape"
   ]
  },
  {
   "cell_type": "code",
   "execution_count": 56,
   "id": "df37f728-330d-49fd-9dc6-ad6cd7667e27",
   "metadata": {},
   "outputs": [],
   "source": [
    "a=np.argmin(mat, axis=0)"
   ]
  },
  {
   "cell_type": "code",
   "execution_count": 79,
   "id": "dea1831a-0d27-4c51-a701-682f158f3a83",
   "metadata": {},
   "outputs": [
    {
     "data": {
      "text/plain": [
       "array([[3, 2, 1],\n",
       "       [4, 5, 6],\n",
       "       [7, 8, 9]])"
      ]
     },
     "execution_count": 79,
     "metadata": {},
     "output_type": "execute_result"
    }
   ],
   "source": [
    "mat"
   ]
  },
  {
   "cell_type": "code",
   "execution_count": 81,
   "id": "f1aebfb2-2a09-4a38-b237-ca10d826a5c8",
   "metadata": {},
   "outputs": [
    {
     "data": {
      "text/plain": [
       "array([0, 0, 0])"
      ]
     },
     "execution_count": 81,
     "metadata": {},
     "output_type": "execute_result"
    }
   ],
   "source": [
    "np.argmin(mat, axis=0)"
   ]
  },
  {
   "cell_type": "code",
   "execution_count": 60,
   "id": "d50207d5-470a-45d0-8975-59b07a7552f7",
   "metadata": {},
   "outputs": [
    {
     "data": {
      "text/plain": [
       "array([[-1,  1,  2],\n",
       "       [-1,  4,  5],\n",
       "       [-1,  7,  8]])"
      ]
     },
     "execution_count": 60,
     "metadata": {},
     "output_type": "execute_result"
    }
   ],
   "source": [
    "mat-[1,1,1]"
   ]
  },
  {
   "cell_type": "code",
   "execution_count": 61,
   "id": "7a062b59-e9b7-45f2-91ee-d25834a6b70d",
   "metadata": {},
   "outputs": [],
   "source": [
    "x = np.array(5)"
   ]
  },
  {
   "cell_type": "code",
   "execution_count": 62,
   "id": "f65e6c9a-5571-4bf5-880a-2b14535c50ba",
   "metadata": {},
   "outputs": [
    {
     "data": {
      "text/plain": [
       "array(5)"
      ]
     },
     "execution_count": 62,
     "metadata": {},
     "output_type": "execute_result"
    }
   ],
   "source": [
    "x"
   ]
  },
  {
   "cell_type": "code",
   "execution_count": 65,
   "id": "5297ee18-e348-4238-a1f5-a8141e0138b5",
   "metadata": {},
   "outputs": [
    {
     "name": "stdout",
     "output_type": "stream",
     "text": [
      "(3, 3, 3)\n"
     ]
    }
   ],
   "source": [
    "m = np.random.rand(3, 3, 3)\n",
    "\n",
    "# Set the 3D coordinate a of a point\n",
    "a = (1, 2, 3)\n",
    "\n",
    "# Perform element-wise subtraction between a and each element of m\n",
    "result = m - np.array(a)\n",
    "\n",
    "# The resulting array has the same shape as m\n",
    "print(result.shape)  # Output: (M, N, P)"
   ]
  },
  {
   "cell_type": "code",
   "execution_count": 66,
   "id": "1fc86280-f16f-447a-962c-464b461859e1",
   "metadata": {},
   "outputs": [
    {
     "data": {
      "text/plain": [
       "array([[[-0.03780841, -1.92082078, -2.63416517],\n",
       "        [-0.17537574, -1.62202658, -2.03303028],\n",
       "        [-0.00343291, -1.58692318, -2.83419127]],\n",
       "\n",
       "       [[-0.74507495, -1.82944992, -2.26258092],\n",
       "        [-0.54836217, -1.33055919, -2.50580696],\n",
       "        [-0.03768944, -1.40045431, -2.55930572]],\n",
       "\n",
       "       [[-0.59795847, -1.35833591, -2.28745255],\n",
       "        [-0.74901924, -1.58210953, -2.40906814],\n",
       "        [-0.41773148, -1.31187259, -2.08977095]]])"
      ]
     },
     "execution_count": 66,
     "metadata": {},
     "output_type": "execute_result"
    }
   ],
   "source": [
    "result"
   ]
  },
  {
   "cell_type": "code",
   "execution_count": 67,
   "id": "c85c6e69-88fe-43fd-b782-676ee2ee89ad",
   "metadata": {},
   "outputs": [
    {
     "data": {
      "text/plain": [
       "array([[[0.96219159, 0.07917922, 0.36583483],\n",
       "        [0.82462426, 0.37797342, 0.96696972],\n",
       "        [0.99656709, 0.41307682, 0.16580873]],\n",
       "\n",
       "       [[0.25492505, 0.17055008, 0.73741908],\n",
       "        [0.45163783, 0.66944081, 0.49419304],\n",
       "        [0.96231056, 0.59954569, 0.44069428]],\n",
       "\n",
       "       [[0.40204153, 0.64166409, 0.71254745],\n",
       "        [0.25098076, 0.41789047, 0.59093186],\n",
       "        [0.58226852, 0.68812741, 0.91022905]]])"
      ]
     },
     "execution_count": 67,
     "metadata": {},
     "output_type": "execute_result"
    }
   ],
   "source": [
    "m"
   ]
  },
  {
   "cell_type": "code",
   "execution_count": null,
   "id": "f250166a-0aaa-4130-ac37-295b603171c8",
   "metadata": {},
   "outputs": [],
   "source": []
  }
 ],
 "metadata": {
  "kernelspec": {
   "display_name": "Python 3 (ipykernel)",
   "language": "python",
   "name": "python3"
  },
  "language_info": {
   "codemirror_mode": {
    "name": "ipython",
    "version": 3
   },
   "file_extension": ".py",
   "mimetype": "text/x-python",
   "name": "python",
   "nbconvert_exporter": "python",
   "pygments_lexer": "ipython3",
   "version": "3.10.4"
  }
 },
 "nbformat": 4,
 "nbformat_minor": 5
}
